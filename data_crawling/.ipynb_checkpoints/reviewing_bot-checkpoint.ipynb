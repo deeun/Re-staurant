{
 "cells": [
  {
   "cell_type": "code",
   "execution_count": 1,
   "metadata": {},
   "outputs": [
    {
     "name": "stderr",
     "output_type": "stream",
     "text": [
      "C:\\Users\\Leesumin\\AppData\\Local\\Temp/ipykernel_11136/3807891436.py:16: DeprecationWarning: executable_path has been deprecated, please pass in a Service object\n",
      "  driver = webdriver.Chrome(\"./chromedriver.exe\")\n"
     ]
    },
    {
     "ename": "WebDriverException",
     "evalue": "Message: unknown error: net::ERR_CONNECTION_REFUSED\n  (Session info: chrome=105.0.5195.126)\nStacktrace:\nBacktrace:\n\tOrdinal0 [0x00F38823+2197539]\n\tOrdinal0 [0x00ED0911+1771793]\n\tOrdinal0 [0x00DE3FE8+802792]\n\tOrdinal0 [0x00DE0738+788280]\n\tOrdinal0 [0x00DD764D+751181]\n\tOrdinal0 [0x00DD8282+754306]\n\tOrdinal0 [0x00DD785A+751706]\n\tOrdinal0 [0x00DD6DDF+749023]\n\tOrdinal0 [0x00DD5CC4+744644]\n\tOrdinal0 [0x00DD619D+745885]\n\tOrdinal0 [0x00DE57B4+808884]\n\tOrdinal0 [0x00E3E12D+1171757]\n\tOrdinal0 [0x00E2D65C+1103452]\n\tOrdinal0 [0x00E3DA72+1170034]\n\tOrdinal0 [0x00E2D476+1102966]\n\tOrdinal0 [0x00E07660+947808]\n\tOrdinal0 [0x00E08556+951638]\n\tGetHandleVerifier [0x011E1A32+2740578]\n\tGetHandleVerifier [0x011D3776+2682534]\n\tGetHandleVerifier [0x00FC307A+518058]\n\tGetHandleVerifier [0x00FC2196+514246]\n\tOrdinal0 [0x00ED7ADB+1800923]\n\tOrdinal0 [0x00EDC2E8+1819368]\n\tOrdinal0 [0x00EDC3D5+1819605]\n\tOrdinal0 [0x00EE5810+1857552]\n\tBaseThreadInitThunk [0x76ECFA29+25]\n\tRtlGetAppContainerNamedObjectPath [0x77017A9E+286]\n\tRtlGetAppContainerNamedObjectPath [0x77017A6E+238]\n",
     "output_type": "error",
     "traceback": [
      "\u001b[1;31m---------------------------------------------------------------------------\u001b[0m",
      "\u001b[1;31mWebDriverException\u001b[0m                        Traceback (most recent call last)",
      "\u001b[1;32m~\\AppData\\Local\\Temp/ipykernel_11136/3807891436.py\u001b[0m in \u001b[0;36m<module>\u001b[1;34m\u001b[0m\n\u001b[0;32m     17\u001b[0m \u001b[1;33m\u001b[0m\u001b[0m\n\u001b[0;32m     18\u001b[0m \u001b[1;33m\u001b[0m\u001b[0m\n\u001b[1;32m---> 19\u001b[1;33m \u001b[0mdriver\u001b[0m\u001b[1;33m.\u001b[0m\u001b[0mget\u001b[0m\u001b[1;33m(\u001b[0m\u001b[1;34m\"http://localhost:3000/login\"\u001b[0m\u001b[1;33m)\u001b[0m\u001b[1;33m\u001b[0m\u001b[1;33m\u001b[0m\u001b[0m\n\u001b[0m\u001b[0;32m     20\u001b[0m \u001b[1;33m\u001b[0m\u001b[0m\n\u001b[0;32m     21\u001b[0m \u001b[1;32mfor\u001b[0m \u001b[0mi\u001b[0m \u001b[1;32min\u001b[0m \u001b[0mrange\u001b[0m\u001b[1;33m(\u001b[0m\u001b[1;36m5\u001b[0m\u001b[1;33m,\u001b[0m\u001b[1;36m7\u001b[0m\u001b[1;33m)\u001b[0m\u001b[1;33m:\u001b[0m\u001b[1;33m\u001b[0m\u001b[1;33m\u001b[0m\u001b[0m\n",
      "\u001b[1;32m~\\anaconda3\\envs\\r-tutorial\\lib\\site-packages\\selenium\\webdriver\\remote\\webdriver.py\u001b[0m in \u001b[0;36mget\u001b[1;34m(self, url)\u001b[0m\n\u001b[0;32m    438\u001b[0m         \u001b[0mLoads\u001b[0m \u001b[0ma\u001b[0m \u001b[0mweb\u001b[0m \u001b[0mpage\u001b[0m \u001b[1;32min\u001b[0m \u001b[0mthe\u001b[0m \u001b[0mcurrent\u001b[0m \u001b[0mbrowser\u001b[0m \u001b[0msession\u001b[0m\u001b[1;33m.\u001b[0m\u001b[1;33m\u001b[0m\u001b[1;33m\u001b[0m\u001b[0m\n\u001b[0;32m    439\u001b[0m         \"\"\"\n\u001b[1;32m--> 440\u001b[1;33m         \u001b[0mself\u001b[0m\u001b[1;33m.\u001b[0m\u001b[0mexecute\u001b[0m\u001b[1;33m(\u001b[0m\u001b[0mCommand\u001b[0m\u001b[1;33m.\u001b[0m\u001b[0mGET\u001b[0m\u001b[1;33m,\u001b[0m \u001b[1;33m{\u001b[0m\u001b[1;34m'url'\u001b[0m\u001b[1;33m:\u001b[0m \u001b[0murl\u001b[0m\u001b[1;33m}\u001b[0m\u001b[1;33m)\u001b[0m\u001b[1;33m\u001b[0m\u001b[1;33m\u001b[0m\u001b[0m\n\u001b[0m\u001b[0;32m    441\u001b[0m \u001b[1;33m\u001b[0m\u001b[0m\n\u001b[0;32m    442\u001b[0m     \u001b[1;33m@\u001b[0m\u001b[0mproperty\u001b[0m\u001b[1;33m\u001b[0m\u001b[1;33m\u001b[0m\u001b[0m\n",
      "\u001b[1;32m~\\anaconda3\\envs\\r-tutorial\\lib\\site-packages\\selenium\\webdriver\\remote\\webdriver.py\u001b[0m in \u001b[0;36mexecute\u001b[1;34m(self, driver_command, params)\u001b[0m\n\u001b[0;32m    426\u001b[0m         \u001b[0mresponse\u001b[0m \u001b[1;33m=\u001b[0m \u001b[0mself\u001b[0m\u001b[1;33m.\u001b[0m\u001b[0mcommand_executor\u001b[0m\u001b[1;33m.\u001b[0m\u001b[0mexecute\u001b[0m\u001b[1;33m(\u001b[0m\u001b[0mdriver_command\u001b[0m\u001b[1;33m,\u001b[0m \u001b[0mparams\u001b[0m\u001b[1;33m)\u001b[0m\u001b[1;33m\u001b[0m\u001b[1;33m\u001b[0m\u001b[0m\n\u001b[0;32m    427\u001b[0m         \u001b[1;32mif\u001b[0m \u001b[0mresponse\u001b[0m\u001b[1;33m:\u001b[0m\u001b[1;33m\u001b[0m\u001b[1;33m\u001b[0m\u001b[0m\n\u001b[1;32m--> 428\u001b[1;33m             \u001b[0mself\u001b[0m\u001b[1;33m.\u001b[0m\u001b[0merror_handler\u001b[0m\u001b[1;33m.\u001b[0m\u001b[0mcheck_response\u001b[0m\u001b[1;33m(\u001b[0m\u001b[0mresponse\u001b[0m\u001b[1;33m)\u001b[0m\u001b[1;33m\u001b[0m\u001b[1;33m\u001b[0m\u001b[0m\n\u001b[0m\u001b[0;32m    429\u001b[0m             response['value'] = self._unwrap_value(\n\u001b[0;32m    430\u001b[0m                 response.get('value', None))\n",
      "\u001b[1;32m~\\anaconda3\\envs\\r-tutorial\\lib\\site-packages\\selenium\\webdriver\\remote\\errorhandler.py\u001b[0m in \u001b[0;36mcheck_response\u001b[1;34m(self, response)\u001b[0m\n\u001b[0;32m    241\u001b[0m                 \u001b[0malert_text\u001b[0m \u001b[1;33m=\u001b[0m \u001b[0mvalue\u001b[0m\u001b[1;33m[\u001b[0m\u001b[1;34m'alert'\u001b[0m\u001b[1;33m]\u001b[0m\u001b[1;33m.\u001b[0m\u001b[0mget\u001b[0m\u001b[1;33m(\u001b[0m\u001b[1;34m'text'\u001b[0m\u001b[1;33m)\u001b[0m\u001b[1;33m\u001b[0m\u001b[1;33m\u001b[0m\u001b[0m\n\u001b[0;32m    242\u001b[0m             \u001b[1;32mraise\u001b[0m \u001b[0mexception_class\u001b[0m\u001b[1;33m(\u001b[0m\u001b[0mmessage\u001b[0m\u001b[1;33m,\u001b[0m \u001b[0mscreen\u001b[0m\u001b[1;33m,\u001b[0m \u001b[0mstacktrace\u001b[0m\u001b[1;33m,\u001b[0m \u001b[0malert_text\u001b[0m\u001b[1;33m)\u001b[0m  \u001b[1;31m# type: ignore[call-arg]  # mypy is not smart enough here\u001b[0m\u001b[1;33m\u001b[0m\u001b[1;33m\u001b[0m\u001b[0m\n\u001b[1;32m--> 243\u001b[1;33m         \u001b[1;32mraise\u001b[0m \u001b[0mexception_class\u001b[0m\u001b[1;33m(\u001b[0m\u001b[0mmessage\u001b[0m\u001b[1;33m,\u001b[0m \u001b[0mscreen\u001b[0m\u001b[1;33m,\u001b[0m \u001b[0mstacktrace\u001b[0m\u001b[1;33m)\u001b[0m\u001b[1;33m\u001b[0m\u001b[1;33m\u001b[0m\u001b[0m\n\u001b[0m",
      "\u001b[1;31mWebDriverException\u001b[0m: Message: unknown error: net::ERR_CONNECTION_REFUSED\n  (Session info: chrome=105.0.5195.126)\nStacktrace:\nBacktrace:\n\tOrdinal0 [0x00F38823+2197539]\n\tOrdinal0 [0x00ED0911+1771793]\n\tOrdinal0 [0x00DE3FE8+802792]\n\tOrdinal0 [0x00DE0738+788280]\n\tOrdinal0 [0x00DD764D+751181]\n\tOrdinal0 [0x00DD8282+754306]\n\tOrdinal0 [0x00DD785A+751706]\n\tOrdinal0 [0x00DD6DDF+749023]\n\tOrdinal0 [0x00DD5CC4+744644]\n\tOrdinal0 [0x00DD619D+745885]\n\tOrdinal0 [0x00DE57B4+808884]\n\tOrdinal0 [0x00E3E12D+1171757]\n\tOrdinal0 [0x00E2D65C+1103452]\n\tOrdinal0 [0x00E3DA72+1170034]\n\tOrdinal0 [0x00E2D476+1102966]\n\tOrdinal0 [0x00E07660+947808]\n\tOrdinal0 [0x00E08556+951638]\n\tGetHandleVerifier [0x011E1A32+2740578]\n\tGetHandleVerifier [0x011D3776+2682534]\n\tGetHandleVerifier [0x00FC307A+518058]\n\tGetHandleVerifier [0x00FC2196+514246]\n\tOrdinal0 [0x00ED7ADB+1800923]\n\tOrdinal0 [0x00EDC2E8+1819368]\n\tOrdinal0 [0x00EDC3D5+1819605]\n\tOrdinal0 [0x00EE5810+1857552]\n\tBaseThreadInitThunk [0x76ECFA29+25]\n\tRtlGetAppContainerNamedObjectPath [0x77017A9E+286]\n\tRtlGetAppContainerNamedObjectPath [0x77017A6E+238]\n"
     ]
    }
   ],
   "source": [
    "from selenium import webdriver\n",
    "from selenium.webdriver.common.by import By\n",
    "import requests\n",
    "import json\n",
    "import pandas as pd\n",
    "import warnings\n",
    "import time \n",
    "import platform\n",
    "\n",
    "headers = {'Content-Type':\"application/json\"\n",
    "    ,\"accept\":\"*/*\",'accept-encoding':'gzip, deflate, br','accept-language':\"ko\",\"User-Agent\":\"Mozilla/5.0 (Windows NT 10.0; Win64; x64) AppleWebKit/537.36 (KHTML, like Gecko) Chrome/104.0.0.0 Safari/537.36\"}\n",
    "\n",
    "if \"mac\" in platform.platform():\n",
    "    driver = webdriver.Chrome(\"./chromedriver\")\n",
    "else:\n",
    "    driver = webdriver.Chrome(\"./chromedriver.exe\")\n",
    "\n",
    "\n",
    "driver.get(\"http://localhost:3000/login\")\n",
    "\n",
    "for i in range(5,7):\n",
    "    driver.find_element(By.CSS_SELECTOR,\"#root > div > div > div.SignUp_loginInfo__IKYx6 > a:nth-child(1)\").click()\n",
    "\n",
    "    driver.find_element(By.CSS_SELECTOR,\"#root > div > div > div.SignUp_content__WR\\+nJ > form > input:nth-child(2)\").send_keys(f\"gun_babo_{i}\")\n",
    "\n",
    "    driver.find_element(By.CSS_SELECTOR,\"#root > div > div > div.SignUp_content__WR\\+nJ > form > input:nth-child(6)\").send_keys(f\"gunkang{i}@naver.com\")\n",
    "\n",
    "    driver.find_element(By.CSS_SELECTOR,\"#root > div > div > div.SignUp_content__WR\\+nJ > form > input:nth-child(11)\").send_keys(\"12345678\")\n",
    "    driver.find_element(By.CSS_SELECTOR,\"#root > div > div > div.SignUp_content__WR\\+nJ > form > input:nth-child(16)\").send_keys(\"12345678\")\n",
    "\n",
    "    driver.find_element(By.CSS_SELECTOR,\"#root > div > div > div.SignUp_content__WR\\+nJ > form > div > button\").click()\n",
    "\n",
    "    time.sleep(0.2)\n",
    "    driver.find_element(By.CSS_SELECTOR,\"#root > div > div > div.Welcome_buttons__4jqHU > button:nth-child(1)\").click()\n",
    "    \n",
    "\n",
    "driver.close()\n",
    "\n",
    "# 로그인 페이지 로드\n",
    "driver.get(\"http://localhost:3000/login\")\n",
    "time.sleep(0.2)\n",
    "\n",
    "# 로그인 수행\n",
    "driver.find_element(By.CSS_SELECTOR,\"#root > div > div > form > input:nth-child(2)\").send_keys(f\"gunkang{i}@naver.com\")\n",
    "driver.find_element(By.CSS_SELECTOR,\"#root > div > div > form > input:nth-child(6)\").send_keys(f\"12345678\")\n",
    "driver.find_element(By.CSS_SELECTOR,\"#root > div > div > form > div > button\").click()\n",
    "time.sleep(0.2)\n",
    "\n",
    "\n",
    "\n",
    "\n",
    "    \n",
    "\n",
    "\n"
   ]
  },
  {
   "cell_type": "code",
   "execution_count": null,
   "metadata": {},
   "outputs": [],
   "source": []
  }
 ],
 "metadata": {
  "kernelspec": {
   "display_name": "Python 3 (ipykernel)",
   "language": "python",
   "name": "python3"
  },
  "language_info": {
   "codemirror_mode": {
    "name": "ipython",
    "version": 3
   },
   "file_extension": ".py",
   "mimetype": "text/x-python",
   "name": "python",
   "nbconvert_exporter": "python",
   "pygments_lexer": "ipython3",
   "version": "3.8.12"
  },
  "vscode": {
   "interpreter": {
    "hash": "2a32a1e3db3a3df7faab03eb15d423ca2f32480178c695e3b24fa0ea078e64a6"
   }
  }
 },
 "nbformat": 4,
 "nbformat_minor": 2
}
