{
 "cells": [
  {
   "cell_type": "code",
   "execution_count": 2,
   "metadata": {},
   "outputs": [],
   "source": [
    "import requests\n",
    "import json\n",
    "import pandas as pd\n",
    "\n",
    "url = \"https://pcmap-api.place.naver.com/graphql\"\n",
    "\n",
    "headers = {'Content-Type':\"application/json\"\n",
    "    ,\"accept\":\"*/*\",'accept-encoding':'gzip, deflate, br','accept-language':\"ko\",\"User-Agent\":\"Mozilla/5.0 (Windows NT 10.0; Win64; x64) AppleWebKit/537.36 (KHTML, like Gecko) Chrome/104.0.0.0 Safari/537.36\"}\n",
    "    \n",
    "    "
   ]
  },
  {
   "cell_type": "code",
   "execution_count": 3,
   "metadata": {},
   "outputs": [],
   "source": [
    "pip install --upgrade pip\n"
   ]
  },
  {
   "cell_type": "code",
   "execution_count": null,
   "metadata": {},
   "outputs": [],
   "source": [
    "import pyproj\n",
    "epsg3857 = pyproj.Proj(init='epsg:3857')\n",
    "wgs84 = pyproj.Proj(init='epsg:4326')\n",
    "pyproj.transform(epsg3857,wgs84,14127898.0825082,4515937.3711204)"
   ]
  },
  {
   "cell_type": "code",
   "execution_count": null,
   "metadata": {},
   "outputs": [],
   "source": [
    "import time\n",
    "biz_code = []\n",
    "for j in range(1,30):\n",
    "    r = requests.get(url=f'https://map.naver.com/v5/api/search?caller=pcweb&query=%EC%9D%8C%EC%8B%9D%EC%A0%90&type=all&searchCoord=126.91306779999996;37.54920139999987&page={j}&displayCount=100&isPlaceRecommendationReplace=true&lang=ko', headers=headers)\n",
    "    if 'error' in r.json().keys():\n",
    "        print(r.json()['error']['displayMsg'])\n",
    "        break\n",
    "\n",
    "    for value in r.json()['result']['place']['list']:\n",
    "        biz_code.append(value['id'])\n",
    "biz_code"
   ]
  },
  {
   "cell_type": "code",
   "execution_count": null,
   "metadata": {},
   "outputs": [],
   "source": [
    "place_info=list()\n",
    "for idx,place in enumerate(biz_code):\n",
    "    place_info.append(requests.get(url=f'https://map.naver.com/v5/api/sites/summary/{place}?lang=ko',headers=headers).json())\n",
    "    if idx == 20:\n",
    "        break"
   ]
  },
  {
   "cell_type": "code",
   "execution_count": null,
   "metadata": {},
   "outputs": [],
   "source": [
    "place_info[0].keys()"
   ]
  },
  {
   "cell_type": "code",
   "execution_count": null,
   "metadata": {},
   "outputs": [],
   "source": [
    "place_info"
   ]
  },
  {
   "cell_type": "code",
   "execution_count": null,
   "metadata": {},
   "outputs": [],
   "source": [
    "options = pd.DataFrame(place_info[0]['options'])\n",
    "options['bus_id'] = place_info[0]['id']\n",
    "\n",
    "for idx in range(1,len(place_info)):\n",
    "    df = pd.DataFrame(place_info[idx]['options'])\n",
    "    df['bus_id'] = place_info[idx]['id']\n",
    "    options = pd.concat([options,df])\n",
    "\n",
    "options.reset_index(drop=True,inplace=True)\n",
    "\n",
    "options\n",
    "\n"
   ]
  },
  {
   "cell_type": "code",
   "execution_count": null,
   "metadata": {},
   "outputs": [],
   "source": [
    "len(options)"
   ]
  },
  {
   "cell_type": "code",
   "execution_count": null,
   "metadata": {},
   "outputs": [],
   "source": [
    "place_profile = pd.DataFrame(place_info)[['id','name','category' ,'x','y','fullAddress','fullRoadAddress','phone','description','images','imageURL','categories','bizhourInfo','menus','reviewCount']]\n",
    "# place_profile"
   ]
  },
  {
   "cell_type": "code",
   "execution_count": null,
   "metadata": {},
   "outputs": [],
   "source": [
    "# images 테이블\n",
    "images_list = []\n",
    "for i in range(len(place_info)):\n",
    "    for j in range(len(place_info[i]['images'])):\n",
    "        place_info[i]['images'][j]['bus_id'] = place_info[i]['id']\n",
    "    images_list.append(place_info[i]['images'])\n",
    "\n",
    "df = pd.DataFrame(images_list[0])\n",
    "\n",
    "for i in range(1,len(images_list)):\n",
    "    df = pd.concat([df,pd.DataFrame(images_list[i])])\n",
    "\n",
    "df = df.reset_index(drop=True)[['bus_id','number','url','modDate']]\n",
    "df"
   ]
  },
  {
   "cell_type": "code",
   "execution_count": null,
   "metadata": {},
   "outputs": [],
   "source": [
    "# menus\n",
    "menus = pd.DataFrame(place_profile['menus'][0])\n",
    "menus['bus_id'] = place_profile['id'][0]\n",
    "\n",
    "for i in range(1,len(place_profile)):\n",
    "    df = pd.DataFrame(place_profile['menus'][i])\n",
    "    df['bus_id'] = place_profile['id'][i]\n",
    "    menus = pd.concat([menus,df])\n",
    "\n",
    "menus = menus[['bus_id','name','price']].reset_index(drop=True)\n",
    "menus"
   ]
  },
  {
   "cell_type": "code",
   "execution_count": null,
   "metadata": {},
   "outputs": [],
   "source": [
    "# 식당 기본 상세정보\n",
    "place_default_profile = place_profile[['id','name','category','x','y','fullAddress','fullRoadAddress','phone','description','imageURL','bizhourInfo','reviewCount']].copy()\n",
    "# place_default_profile.reset_index(drop=True,inplace=True)"
   ]
  },
  {
   "cell_type": "code",
   "execution_count": null,
   "metadata": {},
   "outputs": [],
   "source": [
    "place_default_profile.rename(columns={'id':'busId','name':'restaurantName','category':'restaurantCategory','phone':'tellNumber','bizhourInfo':'businessHourInfo'},inplace=True)"
   ]
  },
  {
   "cell_type": "code",
   "execution_count": null,
   "metadata": {},
   "outputs": [],
   "source": [
    "place_default_profile['siCode'] = place_default_profile['fullAddress'].apply(lambda x: x.split(\" \")[0])\n",
    "place_default_profile['guCode'] = place_default_profile['fullAddress'].apply(lambda x: x.split(\" \")[1])\n",
    "place_default_profile['dongCode'] = place_default_profile['fullAddress'].apply(lambda x: x.split(\" \")[2])\n",
    "\n",
    "# place_default_profile"
   ]
  },
  {
   "cell_type": "code",
   "execution_count": null,
   "metadata": {},
   "outputs": [],
   "source": [
    "import json\n",
    "payload = [{f\"{k}\":f\"{v}\" for k, v in row.items()} for _,row in place_default_profile.iterrows()]\n",
    "\n",
    "for row in payload:\n",
    "    requests.post(headers=headers, url = \"http://localhost:8080/restaurant/createRestaurantInfo\",data=json.dumps(row, indent=4, ensure_ascii=False).encode('utf-8'))"
   ]
  },
  {
   "cell_type": "code",
   "execution_count": null,
   "metadata": {},
   "outputs": [],
   "source": [
    "\n",
    "# for row in payload:\n",
    "#     print(json.dumps(row, indent=4, ensure_ascii=False))\n",
    "\n"
   ]
  }
 ],
 "metadata": {
  "kernelspec": {
   "display_name": "Python 3 (ipykernel)",
   "language": "python",
   "name": "python3"
  },
  "language_info": {
   "codemirror_mode": {
    "name": "ipython",
    "version": 3
   },
   "file_extension": ".py",
   "mimetype": "text/x-python",
   "name": "python",
   "nbconvert_exporter": "python",
   "pygments_lexer": "ipython3",
   "version": "3.8.12"
  },
  "vscode": {
   "interpreter": {
    "hash": "7a792fcb311f9eb9f3c1b942a8c87ada8484712b89b670347c16a1088e0a1f69"
   }
  }
 },
 "nbformat": 4,
 "nbformat_minor": 2
}
